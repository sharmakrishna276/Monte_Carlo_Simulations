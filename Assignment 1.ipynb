{
 "cells": [
  {
   "cell_type": "markdown",
   "metadata": {},
   "source": [
    "## Part 1"
   ]
  },
  {
   "cell_type": "code",
   "execution_count": 4,
   "metadata": {},
   "outputs": [
    {
     "name": "stdout",
     "output_type": "stream",
     "text": [
      "0.45729\n"
     ]
    }
   ],
   "source": [
    "import random\n",
    "\n",
    "def fight(x, y):\n",
    "\n",
    "    prob_x = x / (x + y)\n",
    "    prob_y = y / (x + y)\n",
    "\n",
    "    if random.random() < prob_x:\n",
    "        return 1\n",
    "    else:\n",
    "        return 0\n",
    "\n",
    "def simulate_tournament(alice_strengths, my_strengths, rounds):\n",
    "    my_wins = 0\n",
    "    \n",
    "    for _ in range(rounds):\n",
    "        alice_team = alice_strengths.copy()\n",
    "        my_team = my_strengths.copy()\n",
    "\n",
    "        while alice_team and my_team:\n",
    "            alice_warrior = random.choice(alice_team)\n",
    "            my_warrior = max(my_team)\n",
    "            \n",
    "            winner = fight(alice_warrior, my_warrior)\n",
    "            \n",
    "            if winner:\n",
    "                my_team.remove(my_warrior)\n",
    "                alice_team.remove(alice_warrior)\n",
    "                alice_team.append(alice_warrior+my_warrior)\n",
    "            else:\n",
    "                alice_team.remove(alice_warrior)\n",
    "                my_team.remove(my_warrior)\n",
    "                my_team.append(alice_warrior+my_warrior)\n",
    "        \n",
    "        if my_team:\n",
    "            my_wins += 1\n",
    "    \n",
    "    return my_wins / rounds\n",
    "\n",
    "alice_strengths = [3, 4, 6, 7]\n",
    "my_strengths = [1, 7, 5, 4]\n",
    "\n",
    "rounds = 100000\n",
    "\n",
    "probability = simulate_tournament(alice_strengths, my_strengths, rounds)\n",
    "\n",
    "print(probability)"
   ]
  },
  {
   "cell_type": "markdown",
   "metadata": {},
   "source": [
    "## Part 2"
   ]
  },
  {
   "cell_type": "code",
   "execution_count": 5,
   "metadata": {},
   "outputs": [
    {
     "name": "stdout",
     "output_type": "stream",
     "text": [
      "0.4588\n"
     ]
    }
   ],
   "source": [
    "import random\n",
    "\n",
    "def fight(x, y):\n",
    "\n",
    "    prob_x = x / (x + y)\n",
    "    prob_y = y / (x + y)\n",
    "\n",
    "    if random.random() < prob_x:\n",
    "        return 1\n",
    "    else:\n",
    "        return 0\n",
    "\n",
    "def simulate_tournament(alice_strengths, my_strengths, rounds):\n",
    "    my_wins = 0\n",
    "    \n",
    "    for _ in range(rounds):\n",
    "        alice_team = alice_strengths.copy()\n",
    "        my_team = my_strengths.copy()\n",
    "\n",
    "        while alice_team and my_team:\n",
    "            alice_warrior = random.choice(alice_team)\n",
    "            my_warrior = min(my_team)\n",
    "            \n",
    "            winner = fight(alice_warrior, my_warrior)\n",
    "            \n",
    "            if winner:\n",
    "                my_team.remove(my_warrior)\n",
    "                alice_team.remove(alice_warrior)\n",
    "                alice_team.append(alice_warrior+my_warrior)\n",
    "            else:\n",
    "                alice_team.remove(alice_warrior)\n",
    "                my_team.remove(my_warrior)\n",
    "                my_team.append(alice_warrior+my_warrior)\n",
    "        \n",
    "        if my_team:\n",
    "            my_wins += 1\n",
    "    \n",
    "    return my_wins / rounds\n",
    "\n",
    "alice_strengths = [3, 4, 6, 7]\n",
    "my_strengths = [1, 7, 5, 4]\n",
    "\n",
    "rounds = 100000\n",
    "\n",
    "probability = simulate_tournament(alice_strengths, my_strengths, rounds)\n",
    "\n",
    "print(probability)"
   ]
  },
  {
   "cell_type": "markdown",
   "metadata": {},
   "source": [
    "### It can be observed that the probability of winning is almost the same in both strategies."
   ]
  },
  {
   "cell_type": "markdown",
   "metadata": {},
   "source": [
    "## Part 3"
   ]
  },
  {
   "cell_type": "markdown",
   "metadata": {},
   "source": [
    "The expected gain of strength in my team, denoted as $E[gain]$, can be expressed as:\n",
    "\n",
    "$$E[gain] = p_1 \\cdot g_1 + p_2 \\cdot g_2$$\n",
    "\n",
    "where:\n",
    "- $p_1$ is the probability of winning for a warrior with strength $x$,\n",
    "- $p_2$ is the probability of winning for a warrior with strength $y$, and\n",
    "- $g_1, g_2$ are the corresponding gain in strengths for my team\n",
    "\n",
    "Substituting the given values:\n",
    "$$p_1 = \\frac{x}{x + y}$$\n",
    "$$p_2 = \\frac{y}{x + y}$$\n",
    "$$g_1 = 0 - y = -y$$\n",
    "$$g_2 = (x + y) - y = x$$\n",
    "\n",
    "We find:\n",
    "$$E[gain] = \\frac{x}{x + y} (-y) + \\frac{y}{x + y} (x) = 0$$\n",
    "\n",
    "Thus, as $E[gain] = 0$ regardless of the values of $x$ and $y$, it can be concluded that every match is fair."
   ]
  },
  {
   "cell_type": "markdown",
   "metadata": {},
   "source": [
    "## Part 4"
   ]
  },
  {
   "cell_type": "markdown",
   "metadata": {},
   "source": [
    "There is no optimal strategy, as no strategy affects the chances of my team winning the tournament. The chances of a team winning are proportional to its total strength, represented as $\\frac{A}{A+B}$ for Alice's team and $\\frac{B}{A+B}$ for my team, where $A = \\sum_{i=1}^{m} a_i$ and $B = \\sum_{i=1}^{n} b_i$, with $a_i$ and $b_i$ denoting the individual strengths of the warriors of the respective teams.\n",
    "\n",
    "The proof can be done by induction on the total number of warriors in both teams, denoted as $N = n + m$, assuming both $n$ and $m$ are greater than zero, where $m$ is the number of warriors in Alice's team and $n$ is the number of warriors in my team.\n",
    "\n",
    "The base case of $m = n = 1$ is trivially true, as each team consists of only one warrior.\n",
    "\n",
    "Next, assume the claim holds for $N = m + n$. Now consider the case where Alice's team has $m$ warriors and my team size grows to $n + 1$. Let $A = \\sum_{i=1}^{m} a_i$ and $B = \\sum_{i=1}^{n+1} b_i$.\n",
    "\n",
    "For the first fight, the Alice's team sends a warrior of strength $a$ and my team sends a warrior of strength $b$. Alice's team wins with probability $\\frac{a}{a+b}$ and my team wins with probability $\\frac{b}{a+b}$.\n",
    "\n",
    "Depending on who wins the fight, there are two possible distributions of strength:\n",
    "\n",
    "- If Alice's team wins, the strengths are { $a_1, \\ldots, a+b, \\ldots, a_m$ } and { $b_1, \\ldots, \\overline b, \\ldots, b_{n+1}$ }.\n",
    "- If my team wins, the strengths are { $a_1, \\ldots, \\overline a, \\ldots, a_m$ } and { $b_1, \\ldots, b+a, \\ldots, b_{n+1}$ }.\n",
    "\n",
    "where overline means the absence of the warrior.\n",
    "\n",
    "According to the induction assumption, in the first case, the chances of my team winning equal $\\frac{A+b}{A+B}$, and in the second case, they are $\\frac{A-a}{A+B}$. The overall probability becomes:\n",
    "\n",
    "$$P_a = \\frac{a}{a+b} \\cdot \\left( \\frac{A+b}{A+B} \\right) + \\frac{b}{a+b} \\cdot \\left( \\frac{A-a}{A+B} \\right) = \\frac{A}{A+B}$$\n",
    "\n",
    "and\n",
    "\n",
    "$$P_b = 1- \\frac{A}{A+B} = \\frac{B}{A+B}$$\n",
    "\n",
    "as claimed."
   ]
  }
 ],
 "metadata": {
  "kernelspec": {
   "display_name": "Python 3",
   "language": "python",
   "name": "python3"
  },
  "language_info": {
   "codemirror_mode": {
    "name": "ipython",
    "version": 3
   },
   "file_extension": ".py",
   "mimetype": "text/x-python",
   "name": "python",
   "nbconvert_exporter": "python",
   "pygments_lexer": "ipython3",
   "version": "3.10.0"
  }
 },
 "nbformat": 4,
 "nbformat_minor": 2
}
