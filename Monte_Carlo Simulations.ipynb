{
 "cells": [
  {
   "cell_type": "markdown",
   "metadata": {},
   "source": [
    "## Part 1"
   ]
  },
  {
   "cell_type": "code",
   "execution_count": 3,
   "metadata": {},
   "outputs": [
    {
     "name": "stdout",
     "output_type": "stream",
     "text": [
      "0.37689\n"
     ]
    }
   ],
   "source": [
    "import random\n",
    "\n",
    "def fight(x, y):\n",
    "\n",
    "    prob_x = x / (x + y)\n",
    "    prob_y = y / (x + y)\n",
    "\n",
    "    if random.random() < prob_x:\n",
    "        return 1\n",
    "    else:\n",
    "        return 0\n",
    "\n",
    "def simulate_tournament(alice_strengths, my_strengths, rounds):\n",
    "    my_wins = 0\n",
    "    \n",
    "    for _ in range(rounds):\n",
    "        alice_team = alice_strengths.copy()\n",
    "        my_team = my_strengths.copy()\n",
    "\n",
    "        while alice_team and my_team:\n",
    "            alice_warrior = random.choice(alice_team)\n",
    "            my_warrior = max(my_team)\n",
    "            \n",
    "            winner = fight(alice_warrior, my_warrior)\n",
    "            \n",
    "            if winner:\n",
    "                my_team.remove(my_warrior)\n",
    "                alice_team.remove(alice_warrior)\n",
    "                alice_team.append(alice_warrior+my_warrior)\n",
    "            else:\n",
    "                alice_team.remove(alice_warrior)\n",
    "                my_team.remove(my_warrior)\n",
    "                my_team.append(alice_warrior+my_warrior)\n",
    "        \n",
    "        if my_team:\n",
    "            my_wins += 1\n",
    "    \n",
    "    return my_wins / rounds\n",
    "\n",
    "alice_strengths = [3, 4, 6, 7]\n",
    "my_strengths = [1, 2, 6, 3]\n",
    "\n",
    "rounds = 100000\n",
    "\n",
    "probability = simulate_tournament(alice_strengths, my_strengths, rounds)\n",
    "\n",
    "print(probability)"
   ]
  },
  {
   "cell_type": "markdown",
   "metadata": {},
   "source": [
    "## Part 2"
   ]
  },
  {
   "cell_type": "code",
   "execution_count": 2,
   "metadata": {},
   "outputs": [
    {
     "name": "stdout",
     "output_type": "stream",
     "text": [
      "0.37751\n"
     ]
    }
   ],
   "source": [
    "import random\n",
    "\n",
    "def fight(x, y):\n",
    "\n",
    "    prob_x = x / (x + y)\n",
    "    prob_y = y / (x + y)\n",
    "\n",
    "    if random.random() < prob_x:\n",
    "        return 1\n",
    "    else:\n",
    "        return 0\n",
    "\n",
    "def simulate_tournament(alice_strengths, my_strengths, rounds):\n",
    "    my_wins = 0\n",
    "    \n",
    "    for _ in range(rounds):\n",
    "        alice_team = alice_strengths.copy()\n",
    "        my_team = my_strengths.copy()\n",
    "\n",
    "        while alice_team and my_team:\n",
    "            alice_warrior = random.choice(alice_team)\n",
    "            my_warrior = min(my_team)\n",
    "            \n",
    "            winner = fight(alice_warrior, my_warrior)\n",
    "            \n",
    "            if winner:\n",
    "                my_team.remove(my_warrior)\n",
    "                alice_team.remove(alice_warrior)\n",
    "                alice_team.append(alice_warrior+my_warrior)\n",
    "            else:\n",
    "                alice_team.remove(alice_warrior)\n",
    "                my_team.remove(my_warrior)\n",
    "                my_team.append(alice_warrior+my_warrior)\n",
    "        \n",
    "        if my_team:\n",
    "            my_wins += 1\n",
    "    \n",
    "    return my_wins / rounds\n",
    "\n",
    "alice_strengths = [3, 4, 6, 7]\n",
    "my_strengths = [1, 2, 6, 3]\n",
    "\n",
    "rounds = 100000\n",
    "\n",
    "probability = simulate_tournament(alice_strengths, my_strengths, rounds)\n",
    "\n",
    "print(probability)"
   ]
  },
  {
   "cell_type": "markdown",
   "metadata": {},
   "source": [
    "### It can be observed that the probability of winning is almost the same in both strategies."
   ]
  }
 ],
 "metadata": {
  "kernelspec": {
   "display_name": "Python 3",
   "language": "python",
   "name": "python3"
  },
  "language_info": {
   "codemirror_mode": {
    "name": "ipython",
    "version": 3
   },
   "file_extension": ".py",
   "mimetype": "text/x-python",
   "name": "python",
   "nbconvert_exporter": "python",
   "pygments_lexer": "ipython3",
   "version": "3.10.0"
  }
 },
 "nbformat": 4,
 "nbformat_minor": 2
}
